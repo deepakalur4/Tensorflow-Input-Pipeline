{
  "nbformat": 4,
  "nbformat_minor": 0,
  "metadata": {
    "colab": {
      "provenance": []
    },
    "kernelspec": {
      "name": "python3",
      "display_name": "Python 3"
    },
    "language_info": {
      "name": "python"
    }
  },
  "cells": [
    {
      "cell_type": "code",
      "execution_count": null,
      "metadata": {
        "id": "m6jcbZWYJxwR"
      },
      "outputs": [],
      "source": [
        "import tensorflow as tf\n",
        "import pathlib"
      ]
    },
    {
      "cell_type": "code",
      "source": [
        "daily_sales_numbers=[21,22,-31,100,45,-1,99]"
      ],
      "metadata": {
        "id": "00DjacK2Lr05"
      },
      "execution_count": null,
      "outputs": []
    },
    {
      "cell_type": "code",
      "source": [
        "tf_data_set=tf.data.Dataset.from_tensor_slices(daily_sales_numbers)"
      ],
      "metadata": {
        "id": "vWi3HF9ALxi1"
      },
      "execution_count": null,
      "outputs": []
    },
    {
      "cell_type": "code",
      "source": [
        "for sales in tf_data_set.as_numpy_iterator():\n",
        "  print(sales)"
      ],
      "metadata": {
        "colab": {
          "base_uri": "https://localhost:8080/"
        },
        "id": "ft4s75qKL8fP",
        "outputId": "4fe57f14-4a2c-4dc2-bea7-4001a6e878bf"
      },
      "execution_count": null,
      "outputs": [
        {
          "output_type": "stream",
          "name": "stdout",
          "text": [
            "21\n",
            "22\n",
            "-31\n",
            "100\n",
            "45\n",
            "-1\n",
            "99\n"
          ]
        }
      ]
    },
    {
      "cell_type": "code",
      "source": [
        "for sales in tf_data_set.take(3):\n",
        "  print(sales.numpy())"
      ],
      "metadata": {
        "colab": {
          "base_uri": "https://localhost:8080/"
        },
        "id": "QGxKWjHVMBQH",
        "outputId": "bf79d902-01fa-4f09-8fa7-3d01b097591a"
      },
      "execution_count": null,
      "outputs": [
        {
          "output_type": "stream",
          "name": "stdout",
          "text": [
            "21\n",
            "22\n",
            "-31\n"
          ]
        }
      ]
    },
    {
      "cell_type": "code",
      "source": [
        "filteres_data_set=tf_data_set.filter(lambda x: x>0)"
      ],
      "metadata": {
        "id": "fSAVa3i1MO2p"
      },
      "execution_count": null,
      "outputs": []
    },
    {
      "cell_type": "code",
      "source": [
        "for sales in filteres_data_set:\n",
        "  print(sales.numpy())"
      ],
      "metadata": {
        "colab": {
          "base_uri": "https://localhost:8080/"
        },
        "id": "FtFim82SMbIX",
        "outputId": "14d60d77-1ff6-42ae-9f50-ddc37f1a85db"
      },
      "execution_count": null,
      "outputs": [
        {
          "output_type": "stream",
          "name": "stdout",
          "text": [
            "21\n",
            "22\n",
            "100\n",
            "45\n",
            "99\n"
          ]
        }
      ]
    },
    {
      "cell_type": "code",
      "source": [
        "mapped=_data_set=filteres_data_set.map(lambda x: x*72)"
      ],
      "metadata": {
        "id": "m8ALw-KsMhfx"
      },
      "execution_count": null,
      "outputs": []
    },
    {
      "cell_type": "code",
      "source": [
        "for sales in mapped:\n",
        "  print(sales.numpy())"
      ],
      "metadata": {
        "colab": {
          "base_uri": "https://localhost:8080/"
        },
        "id": "R3H1gRMDM-NA",
        "outputId": "adb80033-9eb4-4ba8-98e4-e8c751f11190"
      },
      "execution_count": null,
      "outputs": [
        {
          "output_type": "stream",
          "name": "stdout",
          "text": [
            "1512\n",
            "1584\n",
            "7200\n",
            "3240\n",
            "7128\n"
          ]
        }
      ]
    },
    {
      "cell_type": "code",
      "source": [
        "for sales in mapped.batch(2):\n",
        "  print(sales.numpy())"
      ],
      "metadata": {
        "colab": {
          "base_uri": "https://localhost:8080/"
        },
        "id": "D9280UR3M_Wb",
        "outputId": "741eede2-543d-4775-fd25-bb7c09744803"
      },
      "execution_count": null,
      "outputs": [
        {
          "output_type": "stream",
          "name": "stdout",
          "text": [
            "[1512 1584]\n",
            "[7200 3240]\n",
            "[7128]\n"
          ]
        }
      ]
    },
    {
      "cell_type": "code",
      "source": [
        "for sales in mapped.shuffle(2):\n",
        "  print(sales.numpy())"
      ],
      "metadata": {
        "colab": {
          "base_uri": "https://localhost:8080/"
        },
        "id": "6BXAp0ihNbNB",
        "outputId": "afca33cd-d02d-4ceb-c03b-3baae06beec6"
      },
      "execution_count": null,
      "outputs": [
        {
          "output_type": "stream",
          "name": "stdout",
          "text": [
            "1512\n",
            "1584\n",
            "7200\n",
            "3240\n",
            "7128\n"
          ]
        }
      ]
    },
    {
      "cell_type": "code",
      "source": [
        "tf_dataset=tf.data.Dataset.from_tensor_slices(daily_sales_numbers)"
      ],
      "metadata": {
        "id": "pdvCy-ndNcrZ"
      },
      "execution_count": null,
      "outputs": []
    },
    {
      "cell_type": "code",
      "source": [
        "tf_processed_element=tf_dataset.filter(lambda x :x>0).map(lambda y:y*72).shuffle(2).batch(2)"
      ],
      "metadata": {
        "id": "sw2XwN2vNsYy"
      },
      "execution_count": null,
      "outputs": []
    },
    {
      "cell_type": "code",
      "source": [
        "for sales in tf_processed_element:\n",
        "  print(sales.numpy())"
      ],
      "metadata": {
        "colab": {
          "base_uri": "https://localhost:8080/"
        },
        "id": "yvEWi5OKN3S8",
        "outputId": "d3d9d3d1-3305-458b-dce8-cdde38f17493"
      },
      "execution_count": null,
      "outputs": [
        {
          "output_type": "stream",
          "name": "stdout",
          "text": [
            "[1512 1584]\n",
            "[3240 7128]\n",
            "[7200]\n"
          ]
        }
      ]
    },
    {
      "cell_type": "code",
      "source": [
        "dataset_url= \"https://storage.googleapis.com/download.tensorflow.org/example_images/flower_photos.tgz\""
      ],
      "metadata": {
        "id": "d2CP3eFvN-xZ"
      },
      "execution_count": null,
      "outputs": []
    },
    {
      "cell_type": "code",
      "source": [
        "dataset_flower=tf.keras.utils.get_file(\"flower_photos\",dataset_url,untar=True,cache_dir=\".\")"
      ],
      "metadata": {
        "colab": {
          "base_uri": "https://localhost:8080/"
        },
        "id": "cswASs5yOhMw",
        "outputId": "3404f091-406d-4bc3-9411-5cf2c7f1e7c6"
      },
      "execution_count": null,
      "outputs": [
        {
          "output_type": "stream",
          "name": "stdout",
          "text": [
            "Downloading data from https://storage.googleapis.com/download.tensorflow.org/example_images/flower_photos.tgz\n",
            "228813984/228813984 [==============================] - 2s 0us/step\n"
          ]
        }
      ]
    },
    {
      "cell_type": "code",
      "source": [
        "dataset_flower"
      ],
      "metadata": {
        "colab": {
          "base_uri": "https://localhost:8080/",
          "height": 36
        },
        "id": "axGTcW89OxUm",
        "outputId": "bf3d4188-c001-47b9-a8c1-fe0b748096da"
      },
      "execution_count": null,
      "outputs": [
        {
          "output_type": "execute_result",
          "data": {
            "text/plain": [
              "'./datasets/flower_photos'"
            ],
            "application/vnd.google.colaboratory.intrinsic+json": {
              "type": "string"
            }
          },
          "metadata": {},
          "execution_count": 35
        }
      ]
    },
    {
      "cell_type": "code",
      "source": [
        "flower_data_set_path=pathlib.Path(dataset_flower)"
      ],
      "metadata": {
        "id": "4c4CvhsmO1lH"
      },
      "execution_count": null,
      "outputs": []
    },
    {
      "cell_type": "code",
      "source": [
        "roses=list(flower_data_set_path.glob(\"roses/*\"))\n",
        "tulips=list(flower_data_set_path.glob(\"tulips/*\"))"
      ],
      "metadata": {
        "id": "O2dvqOZcO82M"
      },
      "execution_count": null,
      "outputs": []
    },
    {
      "cell_type": "code",
      "source": [
        "images=tf.data.Dataset.list_files(f\"{str(flower_data_set_path)}/*/*\",shuffle=False)"
      ],
      "metadata": {
        "id": "hcn9qRRwPDog"
      },
      "execution_count": null,
      "outputs": []
    },
    {
      "cell_type": "code",
      "source": [
        "for img in images.take(5):\n",
        "  print(img.numpy())"
      ],
      "metadata": {
        "colab": {
          "base_uri": "https://localhost:8080/"
        },
        "id": "9wQQi0CgPSbY",
        "outputId": "143fc512-dc60-4bcf-ebfd-8f3155da7728"
      },
      "execution_count": null,
      "outputs": [
        {
          "output_type": "stream",
          "name": "stdout",
          "text": [
            "b'datasets/flower_photos/daisy/100080576_f52e8ee070_n.jpg'\n",
            "b'datasets/flower_photos/daisy/10140303196_b88d3d6cec.jpg'\n",
            "b'datasets/flower_photos/daisy/10172379554_b296050f82_n.jpg'\n",
            "b'datasets/flower_photos/daisy/10172567486_2748826a8b.jpg'\n",
            "b'datasets/flower_photos/daisy/10172636503_21bededa75_n.jpg'\n"
          ]
        }
      ]
    },
    {
      "cell_type": "code",
      "source": [
        "imges_shuffled=images.shuffle(200)\n",
        "for img in imges_shuffled.take(5):\n",
        "  print(img.numpy())"
      ],
      "metadata": {
        "colab": {
          "base_uri": "https://localhost:8080/"
        },
        "id": "LD0C5BQ6QGeh",
        "outputId": "3b7aaf0b-64bc-4549-cfb0-cd4002a66afd"
      },
      "execution_count": null,
      "outputs": [
        {
          "output_type": "stream",
          "name": "stdout",
          "text": [
            "b'datasets/flower_photos/daisy/10466558316_a7198b87e2.jpg'\n",
            "b'datasets/flower_photos/daisy/11439894966_dca877f0cd.jpg'\n",
            "b'datasets/flower_photos/daisy/11023272144_fce94401f2_m.jpg'\n",
            "b'datasets/flower_photos/daisy/14507818175_05219b051c_m.jpg'\n",
            "b'datasets/flower_photos/daisy/14167543177_cd36b54ac6_n.jpg'\n"
          ]
        }
      ]
    },
    {
      "cell_type": "code",
      "source": [
        "images_count=len(imges_shuffled)"
      ],
      "metadata": {
        "id": "KVxZmIucRN7T"
      },
      "execution_count": null,
      "outputs": []
    },
    {
      "cell_type": "code",
      "source": [
        "images_count"
      ],
      "metadata": {
        "colab": {
          "base_uri": "https://localhost:8080/"
        },
        "id": "p5R9y4V6RXMb",
        "outputId": "e9627a51-d055-40ee-b537-02ce6224d201"
      },
      "execution_count": null,
      "outputs": [
        {
          "output_type": "execute_result",
          "data": {
            "text/plain": [
              "3670"
            ]
          },
          "metadata": {},
          "execution_count": 64
        }
      ]
    },
    {
      "cell_type": "code",
      "source": [
        "train_size=int(images_count*0.8)"
      ],
      "metadata": {
        "id": "kYE1_VSxRYB2"
      },
      "execution_count": null,
      "outputs": []
    },
    {
      "cell_type": "code",
      "source": [
        "train_ds=imges_shuffled.take(train_size)\n",
        "test_ds=imges_shuffled.skip(train_size)"
      ],
      "metadata": {
        "id": "QhK5iR1bRbm3"
      },
      "execution_count": null,
      "outputs": []
    },
    {
      "cell_type": "code",
      "source": [
        "len(train_ds)"
      ],
      "metadata": {
        "colab": {
          "base_uri": "https://localhost:8080/"
        },
        "id": "M75E2g3sRmow",
        "outputId": "d93d206d-8c1c-43f7-e42e-dd36de38fb60"
      },
      "execution_count": null,
      "outputs": [
        {
          "output_type": "execute_result",
          "data": {
            "text/plain": [
              "2936"
            ]
          },
          "metadata": {},
          "execution_count": 72
        }
      ]
    },
    {
      "cell_type": "code",
      "source": [
        "len(test_ds)"
      ],
      "metadata": {
        "colab": {
          "base_uri": "https://localhost:8080/"
        },
        "id": "Zw7Ixb_oRpOP",
        "outputId": "4fe24020-d556-44ff-ea2f-72b64c0e9bed"
      },
      "execution_count": null,
      "outputs": [
        {
          "output_type": "execute_result",
          "data": {
            "text/plain": [
              "734"
            ]
          },
          "metadata": {},
          "execution_count": 73
        }
      ]
    },
    {
      "cell_type": "code",
      "source": [
        "def get_label(file_path):\n",
        "  import os\n",
        "  return tf.strings.split(file_path,os.path.sep)[2]"
      ],
      "metadata": {
        "id": "y8lwBtKJRsEu"
      },
      "execution_count": null,
      "outputs": []
    },
    {
      "cell_type": "code",
      "source": [
        "for label in train_ds.map(get_label).take(5):\n",
        "  print(label.numpy())"
      ],
      "metadata": {
        "colab": {
          "base_uri": "https://localhost:8080/"
        },
        "id": "dLNYNQOwSmrf",
        "outputId": "caf192c8-0286-47c0-aabf-a3e30af0ce2c"
      },
      "execution_count": null,
      "outputs": [
        {
          "output_type": "stream",
          "name": "stdout",
          "text": [
            "b'daisy'\n",
            "b'daisy'\n",
            "b'daisy'\n",
            "b'daisy'\n",
            "b'daisy'\n"
          ]
        }
      ]
    },
    {
      "cell_type": "code",
      "source": [
        "def process_img(file_path):\n",
        "  label=get_label(file_path)\n",
        "  img=tf.io.read_file(file_path)\n",
        "  img=tf.image.decode_jpeg(img)\n",
        "  img=tf.image.resize(img,[128,128])\n",
        "  return img,label"
      ],
      "metadata": {
        "id": "cXKLA67PUVNz"
      },
      "execution_count": null,
      "outputs": []
    },
    {
      "cell_type": "code",
      "source": [
        "for img,label in train_ds.map(process_img).take(2):\n",
        "  print(img,label.numpy())"
      ],
      "metadata": {
        "colab": {
          "base_uri": "https://localhost:8080/"
        },
        "id": "k7CjRVtjYvZp",
        "outputId": "e1dd24c0-94de-4a1f-d195-800ff3497f3f"
      },
      "execution_count": null,
      "outputs": [
        {
          "output_type": "stream",
          "name": "stdout",
          "text": [
            "tf.Tensor(\n",
            "[[[230.58301 235.33301 244.08301]\n",
            "  [232.5     234.75    242.     ]\n",
            "  [233.50098 236.50098 241.50098]\n",
            "  ...\n",
            "  [205.58301 203.58301 206.58301]\n",
            "  [200.58203 198.58203 203.08203]\n",
            "  [202.08105 200.08105 205.08105]]\n",
            "\n",
            " [[231.49707 236.99414 243.00488]\n",
            "  [232.5     234.75    242.     ]\n",
            "  [232.0039  235.0039  240.0039 ]\n",
            "  ...\n",
            "  [207.74219 205.74219 208.74219]\n",
            "  [204.23828 202.23828 207.23633]\n",
            "  [207.23438 205.23438 210.23438]]\n",
            "\n",
            " [[232.5     238.16504 242.67969]\n",
            "  [234.16016 236.66016 241.66016]\n",
            "  [232.74512 235.74512 240.74512]\n",
            "  ...\n",
            "  [207.91504 207.16992 211.40527]\n",
            "  [207.40527 206.40527 211.40527]\n",
            "  [209.91016 208.91016 214.91016]]\n",
            "\n",
            " ...\n",
            "\n",
            " [[191.59473 193.59473 190.59473]\n",
            "  [192.33984 194.33984 191.50977]\n",
            "  [193.33984 195.33984 194.33984]\n",
            "  ...\n",
            "  [  0.        0.        0.     ]\n",
            "  [  0.        0.        0.     ]\n",
            "  [  0.        0.        0.     ]]\n",
            "\n",
            " [[194.00781 196.00781 193.00586]\n",
            "  [195.00781 197.00781 196.00781]\n",
            "  [195.00781 197.00781 196.00781]\n",
            "  ...\n",
            "  [  0.        0.        0.     ]\n",
            "  [  0.        0.        0.     ]\n",
            "  [  0.        0.        0.     ]]\n",
            "\n",
            " [[197.33594 199.33594 194.83398]\n",
            "  [197.66797 199.50098 199.00195]\n",
            "  [197.66797 199.66797 198.66797]\n",
            "  ...\n",
            "  [  0.        0.        0.     ]\n",
            "  [  0.        0.        0.     ]\n",
            "  [  0.        0.        0.     ]]], shape=(128, 128, 3), dtype=float32) b'daisy'\n",
            "tf.Tensor(\n",
            "[[[ 17.453125    30.453125     4.453125  ]\n",
            "  [ 22.872375    32.872375     6.8463745 ]\n",
            "  [ 22.199219    32.19922      5.1992188 ]\n",
            "  ...\n",
            "  [  9.9470825   13.9470825    0.        ]\n",
            "  [ 10.376343    16.513        0.80078125]\n",
            "  [ 14.894531    18.894531     1.8945312 ]]\n",
            "\n",
            " [[ 18.957031    30.597656     5.0507812 ]\n",
            "  [ 20.664124    31.742249     4.3828735 ]\n",
            "  [ 16.822815    29.634216     4.3320312 ]\n",
            "  ...\n",
            "  [ 12.893127    18.661255     0.        ]\n",
            "  [ 13.617126    17.617126     0.61712646]\n",
            "  [ 17.496094    21.13153      2.4908447 ]]\n",
            "\n",
            " [[ 19.003906    29.003906     3.0933838 ]\n",
            "  [ 17.635315    30.633911     4.6367188 ]\n",
            "  [ 12.200256    24.729431     0.99609375]\n",
            "  ...\n",
            "  [ 15.          23.           0.        ]\n",
            "  [ 17.007812    22.007812     2.        ]\n",
            "  [ 19.006042    22.006042     1.0060425 ]]\n",
            "\n",
            " ...\n",
            "\n",
            " [[ 33.273438    44.367554     4.1015625 ]\n",
            "  [  1.9207764   10.643738     0.        ]\n",
            "  [  2.793213     9.532532     0.99816895]\n",
            "  ...\n",
            "  [148.00964    124.46979      9.549744  ]\n",
            "  [147.64984    128.64453     57.404846  ]\n",
            "  [151.55078    135.09943     81.826355  ]]\n",
            "\n",
            " [[ 26.31012     36.548462     0.44006348]\n",
            "  [  5.843445    18.96814      0.8166504 ]\n",
            "  [  5.0578003   15.52655      0.21374512]\n",
            "  ...\n",
            "  [143.7528     120.94812     15.860779  ]\n",
            "  [148.         129.0235      60.71112   ]\n",
            "  [150.67316    136.87372     84.4635    ]]\n",
            "\n",
            " [[ 16.756958    25.153687     2.1896362 ]\n",
            "  [ 20.481567    30.579163     3.5221558 ]\n",
            "  [  2.291565    12.707397     0.        ]\n",
            "  ...\n",
            "  [141.         120.02698     22.868286  ]\n",
            "  [147.4414     128.96747     66.6615    ]\n",
            "  [150.65582    137.2027      90.499146  ]]], shape=(128, 128, 3), dtype=float32) b'daisy'\n"
          ]
        }
      ]
    },
    {
      "cell_type": "code",
      "source": [
        "train_ds=train_ds.map(process_img)"
      ],
      "metadata": {
        "id": "d3BETarSYyq7"
      },
      "execution_count": null,
      "outputs": []
    },
    {
      "cell_type": "code",
      "source": [
        "def scale(img,label):\n",
        "  return img/255,label"
      ],
      "metadata": {
        "id": "qQ9YE0ejZmEu"
      },
      "execution_count": null,
      "outputs": []
    },
    {
      "cell_type": "code",
      "source": [
        "train_ds_scale=train_ds.map(scale)"
      ],
      "metadata": {
        "id": "6oH5R3jLZsKu"
      },
      "execution_count": null,
      "outputs": []
    },
    {
      "cell_type": "code",
      "source": [
        "for image,label in train_ds_scale.take(5):\n",
        "  print(image[0][0])\n",
        "  print(label)"
      ],
      "metadata": {
        "colab": {
          "base_uri": "https://localhost:8080/"
        },
        "id": "GcJBoZ-fZ1dL",
        "outputId": "3ced838f-22d9-4a78-bee0-0a1af046e838"
      },
      "execution_count": null,
      "outputs": [
        {
          "output_type": "stream",
          "name": "stdout",
          "text": [
            "tf.Tensor([0.17598039 0.22640932 0.15710784], shape=(3,), dtype=float32)\n",
            "tf.Tensor(b'daisy', shape=(), dtype=string)\n",
            "tf.Tensor([0.27110142 0.43367034 0.21897978], shape=(3,), dtype=float32)\n",
            "tf.Tensor(b'daisy', shape=(), dtype=string)\n",
            "tf.Tensor([0.8541054  0.87371325 0.85018384], shape=(3,), dtype=float32)\n",
            "tf.Tensor(b'daisy', shape=(), dtype=string)\n",
            "tf.Tensor([0.24443933 0.2875766  0.15424326], shape=(3,), dtype=float32)\n",
            "tf.Tensor(b'daisy', shape=(), dtype=string)\n",
            "tf.Tensor([0.2143842  0.37909007 0.09673713], shape=(3,), dtype=float32)\n",
            "tf.Tensor(b'daisy', shape=(), dtype=string)\n"
          ]
        }
      ]
    },
    {
      "cell_type": "code",
      "source": [],
      "metadata": {
        "id": "vq7G83zJZ--Q"
      },
      "execution_count": null,
      "outputs": []
    }
  ]
}